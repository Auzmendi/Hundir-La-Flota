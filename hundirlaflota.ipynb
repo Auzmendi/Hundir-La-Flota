{
 "cells": [
  {
   "cell_type": "code",
   "execution_count": 5,
   "metadata": {},
   "outputs": [],
   "source": [
    "import numpy as np\n",
    "import random\n",
    "import time"
   ]
  },
  {
   "cell_type": "markdown",
   "metadata": {},
   "source": [
    "# FUNCION INICIAR TABLERO VACIO"
   ]
  },
  {
   "cell_type": "code",
   "execution_count": 27,
   "metadata": {},
   "outputs": [],
   "source": [
    "def  init_tablero():\n",
    "    tablero = np.full((10,10),' ')\n",
    "    tablero_oculto = np.full((10,10),' ')\n",
    "    tablero_maquina =  np.full((10,10),' ')\n",
    "    # print(tablero)\n",
    "    return tablero,tablero_oculto,tablero_maquina"
   ]
  },
  {
   "cell_type": "markdown",
   "metadata": {},
   "source": [
    "# CONSTANTES\n"
   ]
  },
  {
   "cell_type": "code",
   "execution_count": 14,
   "metadata": {},
   "outputs": [],
   "source": [
    "#CONSTANTES\n",
    "barco_1 = 1\n",
    "barco_2 = 2\n",
    "barco_3 = 3\n",
    "barco_4 = 4\n",
    "barcos_largos = [barco_4,barco_3,barco_3,barco_2,barco_2,barco_2,barco_1,barco_1,barco_1,barco_1]\n",
    "# barcos_cortos = [barco_1,barco_1,barco_1,barco_1]\n",
    "\n",
    "espacios_libres = {\n",
    "    barco_4 : [' ',' ',' ',' '],\n",
    "    barco_3 : [' ',' ',' '],\n",
    "    barco_2 : [' ',' '],\n",
    "    barco_1 : [' ']\n",
    " \n",
    "}"
   ]
  },
  {
   "cell_type": "markdown",
   "metadata": {},
   "source": [
    "## FUNCION PARA COMPROBAR QUE NO SE MONTAN LOS BARCOS"
   ]
  },
  {
   "cell_type": "code",
   "execution_count": 15,
   "metadata": {},
   "outputs": [],
   "source": [
    "def chequear_alrededor(tablero,barco,coordenada_init_x,coordenada_init_y):\n",
    "    if coordenada_init_x!=0 and coordenada_init_y!=0:\n",
    "            tab_check = tablero[(coordenada_init_x-1) : (coordenada_init_x + 1 + len(espacios_libres[barco])),(coordenada_init_y-1) : (coordenada_init_y+2)]\n",
    "    elif coordenada_init_x==0 and coordenada_init_y!=0:\n",
    "            tab_check = tablero[(coordenada_init_x) : (coordenada_init_x + 1 + len(espacios_libres[barco])),(coordenada_init_y-1) : (coordenada_init_y+2)]            \n",
    "    elif coordenada_init_x!=0 and coordenada_init_y==0:\n",
    "            tab_check = tablero[(coordenada_init_x-1) : (coordenada_init_x + 1 + len(espacios_libres[barco])),(coordenada_init_y) : (coordenada_init_y+2)]\n",
    "    elif coordenada_init_x==0 and coordenada_init_y==0:\n",
    "            tab_check = tablero[(coordenada_init_x) : (coordenada_init_x + 1 + len(espacios_libres[barco])),(coordenada_init_y) : (coordenada_init_y+2)]\n",
    "            \n",
    "            \n",
    "    return tab_check"
   ]
  },
  {
   "cell_type": "markdown",
   "metadata": {},
   "source": [
    "## FUNCION PARA RELLENAR EL TABLERO ALEATORIAMENTE"
   ]
  },
  {
   "cell_type": "code",
   "execution_count": 29,
   "metadata": {},
   "outputs": [],
   "source": [
    "\n",
    "def colocar_barco(tablero):\n",
    "\n",
    "         \n",
    "\n",
    "    longitud =4\n",
    "\n",
    "\n",
    "\n",
    "\n",
    "    for barco in  barcos_largos:\n",
    "        # print('-'*100)\n",
    "        # print(f'Coloco el barco : {barco}')\n",
    "        colocado = False\n",
    "        \n",
    "        while colocado == False:\n",
    "            coordenada_init_x = np.random.randint (0,10)\n",
    "            coordenada_init_y = np.random.randint (0,10)\n",
    "            orien=np.random.choice(['S','E'])\n",
    "            # print(f'La orientación es: {orien}')\n",
    "            # print(f'Coordenadas :{(coordenada_init_x,coordenada_init_y)}')\n",
    "            if orien == 'S':\n",
    "                coordenada_final_x = coordenada_init_x + len(espacios_libres[barco]) \n",
    "                coordenada_final_y = coordenada_init_y\n",
    "                if (coordenada_final_x > 9) or (coordenada_final_x < 0 ) or (coordenada_final_y > 9) or (coordenada_final_y < 0 ) :\n",
    "                    # print('No se puede colocar el barco')\n",
    "                    continue\n",
    "            elif orien == 'E':\n",
    "                coordenada_final_x = coordenada_init_x \n",
    "                coordenada_final_y = coordenada_init_y + len(espacios_libres[barco]) \n",
    "                if (coordenada_final_x > 9) or (coordenada_final_x < 0 ) or (coordenada_final_y > 9) or (coordenada_final_y < 0 ) :\n",
    "                    # print('No se puede colocar el barco')\n",
    "                    continue\n",
    "            # time.sleep(0.8)\n",
    "            hay_barco = False\n",
    "            \n",
    "            if list(tablero[coordenada_init_x : coordenada_init_x + len(espacios_libres[barco]) , coordenada_init_y]) == list(espacios_libres[barco]) and (orien =='S') and barco!=barco_1 :\n",
    "                tab_check=chequear_alrededor(tablero,barco,coordenada_init_x,coordenada_init_y)\n",
    "                \n",
    "                if 'O' in tab_check:\n",
    "                    # print('Hay un barco en ese camino')\n",
    "                    hay_barco = True\n",
    "                else:\n",
    "                    tablero[coordenada_init_x : coordenada_init_x + len(espacios_libres[barco]) , coordenada_init_y] = 'O'\n",
    "                    colocado = True\n",
    "                    # print(tablero)\n",
    "                \n",
    "                    \n",
    "            \n",
    "            elif list(tablero[coordenada_init_x , coordenada_init_y]) ==list(espacios_libres[barco]) and (orien =='S') and barco==barco_1 :\n",
    "                tab_check = chequear_alrededor(tablero,barco,coordenada_init_x,coordenada_init_y)\n",
    "                if 'O' in tab_check:\n",
    "                    # print('Hay un barco en ese camino')\n",
    "                    hay_barco = True\n",
    "                else:\n",
    "                    tablero[coordenada_init_x : coordenada_init_x + len(espacios_libres[barco]) , coordenada_init_y] = 'O'\n",
    "                    colocado = True\n",
    "                    # print(tablero)\n",
    "            \n",
    "            elif  list(tablero[coordenada_init_x , coordenada_init_y : coordenada_init_y + len(espacios_libres[barco]) ]) == list(espacios_libres[barco]) and (orien =='E') and  barco!=barco_1:\n",
    "                tab_check = chequear_alrededor(tablero,barco,coordenada_init_x,coordenada_init_y)\n",
    "                if 'O' in tab_check:\n",
    "                    # print('Hay un barco en ese camino')\n",
    "                    hay_barco = True\n",
    "                    \n",
    "                else:\n",
    "                    tablero[coordenada_init_x , coordenada_init_y : coordenada_init_y + len(espacios_libres[barco]) ] = 'O'\n",
    "                    colocado = True\n",
    "                    # print(tablero)\n",
    "            \n",
    "            elif  list(tablero[coordenada_init_x , coordenada_init_y ]) == list(espacios_libres[barco]) and (orien =='E') and  barco==barco_1:\n",
    "                tab_check = chequear_alrededor(tablero,barco,coordenada_init_x,coordenada_init_y)\n",
    "                if 'O' in tab_check:\n",
    "                    # print('Hay un barco en ese camino')\n",
    "                    hay_barco = True\n",
    "                else:\n",
    "                    tablero[coordenada_init_x , coordenada_init_y ] = 'O'\n",
    "                    colocado = True\n",
    "                    # print(tablero)\n",
    "            \n",
    "                \n",
    "            \n",
    "\n",
    "\n",
    "    # print('TODOS LOS BARCOS ESTÁN COLOCADOS')\n",
    "    # print(tablero)\n",
    "    return tablero"
   ]
  },
  {
   "cell_type": "code",
   "execution_count": 22,
   "metadata": {},
   "outputs": [],
   "source": [
    "def mostrar_estado(tablero):\n",
    "    print(f'\\nTABLERO DEL JUGADOR\\n{tablero}')"
   ]
  },
  {
   "cell_type": "code",
   "execution_count": 17,
   "metadata": {},
   "outputs": [],
   "source": [
    "def menu_inicio():\n",
    "    print('MENÚ PRINCIPAL')\n",
    "    print('-'*100)\n",
    "    time.sleep(0.5)\n",
    "    print('1. Nuevo Juego.\\n2. Salir')\n",
    "    opcion = int(input())\n",
    "    return opcion\n",
    "    "
   ]
  },
  {
   "cell_type": "code",
   "execution_count": 25,
   "metadata": {},
   "outputs": [],
   "source": [
    "def introducir_coordenadas():\n",
    "    print('Introduce las coordenadas del disparo.(Números del 1 al 10)')\n",
    "    coor_X = int(input('COORDENADA X'))\n",
    "    coor_X +=-1\n",
    "    coor_Y = int(input('COORDENADA Y'))\n",
    "    coor_Y +=-1       \n",
    "    return coor_X,coor_Y    "
   ]
  },
  {
   "cell_type": "code",
   "execution_count": 26,
   "metadata": {},
   "outputs": [],
   "source": [
    "def comprobar_disparo(coor_X,coor_Y,tablero_oculto):\n",
    "    if tablero_oculto[coor_X,coor_Y] == ' ':\n",
    "        disparo = '*'\n",
    "        print('DISPARO AL AGUA')\n",
    "    elif tablero_oculto[coor_X,coor_Y] == 'O':\n",
    "        disparo = 'X'\n",
    "        print('ACIERTO!!')\n",
    "    elif tablero_oculto[coor_X,coor_Y] == 'X':\n",
    "        disparo = 'X'\n",
    "        print('YA HABIAS DISPARADO AHÍ')\n",
    "    return disparo"
   ]
  },
  {
   "cell_type": "markdown",
   "metadata": {},
   "source": [
    "# PROGRAMA PRINCIPAL"
   ]
  },
  {
   "cell_type": "code",
   "execution_count": 37,
   "metadata": {},
   "outputs": [
    {
     "name": "stdout",
     "output_type": "stream",
     "text": [
      "MENÚ PRINCIPAL\n",
      "----------------------------------------------------------------------------------------------------\n",
      "1. Nuevo Juego.\n",
      "2. Salir\n",
      "\n",
      "TABLERO DEL JUGADOR\n",
      "[['O' 'O' ' ' ' ' 'O' ' ' ' ' 'O' ' ' ' ']\n",
      " [' ' ' ' ' ' ' ' ' ' ' ' ' ' 'O' ' ' ' ']\n",
      " [' ' ' ' 'O' 'O' 'O' 'O' ' ' 'O' ' ' ' ']\n",
      " [' ' ' ' ' ' ' ' ' ' ' ' ' ' 'O' ' ' ' ']\n",
      " ['O' ' ' ' ' ' ' ' ' 'O' ' ' ' ' ' ' ' ']\n",
      " [' ' ' ' ' ' ' ' ' ' ' ' ' ' ' ' ' ' ' ']\n",
      " [' ' ' ' ' ' 'O' ' ' ' ' 'O' ' ' ' ' ' ']\n",
      " [' ' ' ' ' ' 'O' ' ' ' ' 'O' ' ' ' ' ' ']\n",
      " [' ' ' ' ' ' 'O' ' ' ' ' 'O' ' ' ' ' 'O']\n",
      " [' ' ' ' ' ' ' ' ' ' ' ' ' ' ' ' ' ' ' ']]\n"
     ]
    }
   ],
   "source": [
    "#main\n",
    "opcion = menu_inicio()\n",
    "if opcion == 1:\n",
    "    tablero,tablero_oculto,tablero_maquina = init_tablero()   \n",
    "    time.sleep(0.5)\n",
    "    \n",
    "    tablero = colocar_barco(tablero)\n",
    "    mostrar_estado(tablero)\n",
    "    coor_X,coor_Y = introducir_coordenadas()\n",
    "    comprobar_disparo(coor_X,coor_Y,tablero_oculto)\n",
    "    \n",
    "elif opcion ==2:\n",
    "    print('HASTA MAÑANA')\n"
   ]
  },
  {
   "cell_type": "code",
   "execution_count": 38,
   "metadata": {},
   "outputs": [
    {
     "name": "stdout",
     "output_type": "stream",
     "text": [
      "[[' ' ' ' ' ' ' ' ' ' ' ' ' ' ' ' ' ' ' ']\n",
      " [' ' ' ' ' ' ' ' ' ' ' ' ' ' ' ' ' ' ' ']\n",
      " [' ' ' ' ' ' ' ' ' ' ' ' ' ' ' ' ' ' ' ']\n",
      " [' ' ' ' ' ' ' ' ' ' ' ' ' ' ' ' ' ' ' ']\n",
      " [' ' ' ' ' ' ' ' ' ' ' ' ' ' ' ' ' ' ' ']\n",
      " [' ' ' ' ' ' ' ' ' ' ' ' ' ' ' ' ' ' ' ']\n",
      " [' ' ' ' ' ' ' ' ' ' ' ' ' ' ' ' ' ' ' ']\n",
      " [' ' ' ' ' ' ' ' ' ' ' ' ' ' ' ' ' ' ' ']\n",
      " [' ' ' ' ' ' ' ' ' ' ' ' ' ' ' ' ' ' ' ']\n",
      " [' ' ' ' ' ' ' ' ' ' ' ' ' ' ' ' ' ' ' ']]\n"
     ]
    }
   ],
   "source": [
    "print(tablero_oculto)"
   ]
  },
  {
   "cell_type": "code",
   "execution_count": 39,
   "metadata": {},
   "outputs": [
    {
     "name": "stdout",
     "output_type": "stream",
     "text": [
      "[[' ' ' ' ' ' ' ' ' ' ' ' ' ' ' ' ' ' ' ']\n",
      " [' ' ' ' ' ' ' ' ' ' ' ' ' ' ' ' ' ' ' ']\n",
      " [' ' ' ' ' ' ' ' ' ' ' ' ' ' ' ' ' ' ' ']\n",
      " [' ' ' ' ' ' ' ' ' ' ' ' ' ' ' ' ' ' ' ']\n",
      " [' ' ' ' ' ' ' ' ' ' ' ' ' ' ' ' ' ' ' ']\n",
      " [' ' ' ' ' ' ' ' ' ' ' ' ' ' ' ' ' ' ' ']\n",
      " [' ' ' ' ' ' ' ' ' ' ' ' ' ' ' ' ' ' ' ']\n",
      " [' ' ' ' ' ' ' ' ' ' ' ' ' ' ' ' ' ' ' ']\n",
      " [' ' ' ' ' ' ' ' ' ' ' ' ' ' ' ' ' ' ' ']\n",
      " [' ' ' ' ' ' ' ' ' ' ' ' ' ' ' ' ' ' ' ']]\n"
     ]
    }
   ],
   "source": [
    "print(tablero_maquina)"
   ]
  },
  {
   "cell_type": "code",
   "execution_count": null,
   "metadata": {},
   "outputs": [],
   "source": []
  }
 ],
 "metadata": {
  "kernelspec": {
   "display_name": "Python 3",
   "language": "python",
   "name": "python3"
  },
  "language_info": {
   "codemirror_mode": {
    "name": "ipython",
    "version": 3
   },
   "file_extension": ".py",
   "mimetype": "text/x-python",
   "name": "python",
   "nbconvert_exporter": "python",
   "pygments_lexer": "ipython3",
   "version": "3.11.9"
  }
 },
 "nbformat": 4,
 "nbformat_minor": 2
}
